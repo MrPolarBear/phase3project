{
 "cells": [
  {
   "cell_type": "markdown",
   "metadata": {},
   "source": [
    "# Modeling Work 2 for Logreg\n",
    "\n",
    "Modeling Work 1 is mostly done onto all features. These models will have select features used instead as I believe there was a bunch of unnecessary noise in the models of Modeling Work 1"
   ]
  },
  {
   "cell_type": "markdown",
   "metadata": {},
   "source": [
    "## Imports and functions"
   ]
  },
  {
   "cell_type": "code",
   "execution_count": 1,
   "metadata": {},
   "outputs": [],
   "source": [
    "# Imports\n",
    "from pathlib import Path\n",
    "import pandas as pd\n",
    "import numpy as np\n",
    "\n",
    "import matplotlib.pyplot as plt\n",
    "import seaborn as sns\n",
    "\n",
    "from sklearn.preprocessing import StandardScaler, OneHotEncoder, FunctionTransformer\n",
    "from sklearn.pipeline import Pipeline\n",
    "from sklearn.impute import SimpleImputer\n",
    "from sklearn.metrics import classification_report\n",
    "\n",
    "from sklearn.compose import ColumnTransformer\n",
    "from sklearn.compose import ColumnTransformer,  make_column_selector as selector\n",
    "\n",
    "from sklearn.linear_model import LogisticRegression\n",
    "from sklearn.dummy import DummyClassifier\n",
    "from sklearn.tree import DecisionTreeClassifier, plot_tree\n",
    "from sklearn.model_selection import train_test_split, GridSearchCV, cross_val_score\n",
    "from sklearn.metrics import accuracy_score, recall_score, precision_score, f1_score\n",
    "from sklearn.metrics import plot_confusion_matrix\n",
    "from sklearn.metrics import roc_auc_score, plot_roc_curve, roc_curve\n",
    "\n",
    "from imblearn.over_sampling import SMOTE\n",
    "from imblearn.pipeline import Pipeline as ImPipeline"
   ]
  },
  {
   "cell_type": "code",
   "execution_count": 2,
   "metadata": {},
   "outputs": [],
   "source": [
    "class ModelWithCV():\n",
    "    '''Structure to save the model and more easily see its crossvalidation'''\n",
    "    \n",
    "    def __init__(self, model, model_name, X, y, cv_now=True):\n",
    "        self.model = model\n",
    "        self.name = model_name\n",
    "        self.X = X\n",
    "        self.y = y\n",
    "        # For CV results\n",
    "        self.cv_results = None\n",
    "        self.cv_mean = None\n",
    "        self.cv_median = None\n",
    "        self.cv_std = None\n",
    "        #\n",
    "        if cv_now:\n",
    "            self.cross_validate()\n",
    "        \n",
    "    def cross_validate(self, X=None, y=None, kfolds=10):\n",
    "        '''\n",
    "        Perform cross-validation and return results.\n",
    "        \n",
    "        Args: \n",
    "          X:\n",
    "            Optional; Training data to perform CV on. Otherwise use X from object\n",
    "          y:\n",
    "            Optional; Training data to perform CV on. Otherwise use y from object\n",
    "          kfolds:\n",
    "            Optional; Number of folds for CV (default is 10)  \n",
    "        '''\n",
    "        \n",
    "        cv_X = X if X else self.X\n",
    "        cv_y = y if y else self.y\n",
    "\n",
    "        self.cv_results = cross_val_score(self.model, cv_X, cv_y, cv=kfolds)\n",
    "        self.cv_mean = np.mean(self.cv_results)\n",
    "        self.cv_median = np.median(self.cv_results)\n",
    "        self.cv_std = np.std(self.cv_results)\n",
    "\n",
    "        \n",
    "    def print_cv_summary(self):\n",
    "        cv_summary = (\n",
    "        f'''CV Results for `{self.name}` model:\n",
    "            {self.cv_mean:.5f} ± {self.cv_std:.5f} accuracy\n",
    "        ''')\n",
    "        print(cv_summary)\n",
    "\n",
    "        \n",
    "    def plot_cv(self, ax):\n",
    "        '''\n",
    "        Plot the cross-validation values using the array of results and given \n",
    "        Axis for plotting.\n",
    "        '''\n",
    "        ax.set_title(f'CV Results for `{self.name}` Model')\n",
    "        # Thinner violinplot with higher bw\n",
    "        sns.violinplot(y=self.cv_results, ax=ax, bw=.4)\n",
    "        sns.swarmplot(\n",
    "                y=self.cv_results,\n",
    "                color='orange',\n",
    "                size=10,\n",
    "                alpha= 0.8,\n",
    "                ax=ax\n",
    "        )\n",
    "\n",
    "        return ax"
   ]
  },
  {
   "cell_type": "code",
   "execution_count": 3,
   "metadata": {},
   "outputs": [],
   "source": [
    "ft_df = pd.read_csv(\"../data/training_set_features.csv\")\n",
    "lbl_df = pd.read_csv(\"../data/training_set_labels.csv\")\n",
    "## Merging dfs\n",
    "df_merged = ft_df.merge(lbl_df)"
   ]
  },
  {
   "cell_type": "code",
   "execution_count": 4,
   "metadata": {},
   "outputs": [
    {
     "name": "stdout",
     "output_type": "stream",
     "text": [
      "<class 'pandas.core.frame.DataFrame'>\n",
      "Int64Index: 26707 entries, 0 to 26706\n",
      "Data columns (total 38 columns):\n",
      " #   Column                       Non-Null Count  Dtype  \n",
      "---  ------                       --------------  -----  \n",
      " 0   respondent_id                26707 non-null  int64  \n",
      " 1   h1n1_concern                 26615 non-null  float64\n",
      " 2   h1n1_knowledge               26591 non-null  float64\n",
      " 3   behavioral_antiviral_meds    26636 non-null  float64\n",
      " 4   behavioral_avoidance         26499 non-null  float64\n",
      " 5   behavioral_face_mask         26688 non-null  float64\n",
      " 6   behavioral_wash_hands        26665 non-null  float64\n",
      " 7   behavioral_large_gatherings  26620 non-null  float64\n",
      " 8   behavioral_outside_home      26625 non-null  float64\n",
      " 9   behavioral_touch_face        26579 non-null  float64\n",
      " 10  doctor_recc_h1n1             24547 non-null  float64\n",
      " 11  doctor_recc_seasonal         24547 non-null  float64\n",
      " 12  chronic_med_condition        25736 non-null  float64\n",
      " 13  child_under_6_months         25887 non-null  float64\n",
      " 14  health_worker                25903 non-null  float64\n",
      " 15  health_insurance             14433 non-null  float64\n",
      " 16  opinion_h1n1_vacc_effective  26316 non-null  float64\n",
      " 17  opinion_h1n1_risk            26319 non-null  float64\n",
      " 18  opinion_h1n1_sick_from_vacc  26312 non-null  float64\n",
      " 19  opinion_seas_vacc_effective  26245 non-null  float64\n",
      " 20  opinion_seas_risk            26193 non-null  float64\n",
      " 21  opinion_seas_sick_from_vacc  26170 non-null  float64\n",
      " 22  age_group                    26707 non-null  object \n",
      " 23  education                    25300 non-null  object \n",
      " 24  race                         26707 non-null  object \n",
      " 25  sex                          26707 non-null  object \n",
      " 26  income_poverty               22284 non-null  object \n",
      " 27  marital_status               25299 non-null  object \n",
      " 28  rent_or_own                  24665 non-null  object \n",
      " 29  employment_status            25244 non-null  object \n",
      " 30  hhs_geo_region               26707 non-null  object \n",
      " 31  census_msa                   26707 non-null  object \n",
      " 32  household_adults             26458 non-null  float64\n",
      " 33  household_children           26458 non-null  float64\n",
      " 34  employment_industry          13377 non-null  object \n",
      " 35  employment_occupation        13237 non-null  object \n",
      " 36  h1n1_vaccine                 26707 non-null  int64  \n",
      " 37  seasonal_vaccine             26707 non-null  int64  \n",
      "dtypes: float64(23), int64(3), object(12)\n",
      "memory usage: 7.9+ MB\n"
     ]
    }
   ],
   "source": [
    "df_merged.info()"
   ]
  },
  {
   "cell_type": "markdown",
   "metadata": {},
   "source": [
    "## Prepping data to use"
   ]
  },
  {
   "cell_type": "code",
   "execution_count": 5,
   "metadata": {},
   "outputs": [
    {
     "data": {
      "text/plain": [
       "0.0    14010\n",
       "1.0    12697\n",
       "Name: health_insurance, dtype: int64"
      ]
     },
     "execution_count": 5,
     "metadata": {},
     "output_type": "execute_result"
    }
   ],
   "source": [
    "df_merged['health_insurance'].fillna(0).value_counts()"
   ]
  },
  {
   "cell_type": "code",
   "execution_count": 6,
   "metadata": {},
   "outputs": [
    {
     "data": {
      "text/plain": [
       "1.0    12697\n",
       "0.0     1736\n",
       "Name: health_insurance, dtype: int64"
      ]
     },
     "execution_count": 6,
     "metadata": {},
     "output_type": "execute_result"
    }
   ],
   "source": [
    "df_merged['health_insurance'].value_counts()"
   ]
  },
  {
   "cell_type": "code",
   "execution_count": 7,
   "metadata": {},
   "outputs": [
    {
     "data": {
      "text/html": [
       "<div>\n",
       "<style scoped>\n",
       "    .dataframe tbody tr th:only-of-type {\n",
       "        vertical-align: middle;\n",
       "    }\n",
       "\n",
       "    .dataframe tbody tr th {\n",
       "        vertical-align: top;\n",
       "    }\n",
       "\n",
       "    .dataframe thead th {\n",
       "        text-align: right;\n",
       "    }\n",
       "</style>\n",
       "<table border=\"1\" class=\"dataframe\">\n",
       "  <thead>\n",
       "    <tr style=\"text-align: right;\">\n",
       "      <th></th>\n",
       "      <th></th>\n",
       "      <th>respondent_id</th>\n",
       "      <th>h1n1_concern</th>\n",
       "      <th>h1n1_knowledge</th>\n",
       "      <th>behavioral_antiviral_meds</th>\n",
       "      <th>behavioral_avoidance</th>\n",
       "      <th>behavioral_face_mask</th>\n",
       "      <th>behavioral_wash_hands</th>\n",
       "      <th>behavioral_large_gatherings</th>\n",
       "      <th>behavioral_outside_home</th>\n",
       "      <th>behavioral_touch_face</th>\n",
       "      <th>...</th>\n",
       "      <th>rent_or_own</th>\n",
       "      <th>employment_status</th>\n",
       "      <th>hhs_geo_region</th>\n",
       "      <th>census_msa</th>\n",
       "      <th>household_adults</th>\n",
       "      <th>household_children</th>\n",
       "      <th>employment_industry</th>\n",
       "      <th>employment_occupation</th>\n",
       "      <th>h1n1_vaccine</th>\n",
       "      <th>seasonal_vaccine</th>\n",
       "    </tr>\n",
       "    <tr>\n",
       "      <th>education</th>\n",
       "      <th>income_poverty</th>\n",
       "      <th></th>\n",
       "      <th></th>\n",
       "      <th></th>\n",
       "      <th></th>\n",
       "      <th></th>\n",
       "      <th></th>\n",
       "      <th></th>\n",
       "      <th></th>\n",
       "      <th></th>\n",
       "      <th></th>\n",
       "      <th></th>\n",
       "      <th></th>\n",
       "      <th></th>\n",
       "      <th></th>\n",
       "      <th></th>\n",
       "      <th></th>\n",
       "      <th></th>\n",
       "      <th></th>\n",
       "      <th></th>\n",
       "      <th></th>\n",
       "      <th></th>\n",
       "    </tr>\n",
       "  </thead>\n",
       "  <tbody>\n",
       "    <tr>\n",
       "      <th rowspan=\"3\" valign=\"top\">12 Years</th>\n",
       "      <th>&lt;= $75,000, Above Poverty</th>\n",
       "      <td>3266</td>\n",
       "      <td>3261</td>\n",
       "      <td>3255</td>\n",
       "      <td>3257</td>\n",
       "      <td>3241</td>\n",
       "      <td>3261</td>\n",
       "      <td>3263</td>\n",
       "      <td>3254</td>\n",
       "      <td>3253</td>\n",
       "      <td>3244</td>\n",
       "      <td>...</td>\n",
       "      <td>3223</td>\n",
       "      <td>3253</td>\n",
       "      <td>3266</td>\n",
       "      <td>3266</td>\n",
       "      <td>3266</td>\n",
       "      <td>3266</td>\n",
       "      <td>1472</td>\n",
       "      <td>1466</td>\n",
       "      <td>3266</td>\n",
       "      <td>3266</td>\n",
       "    </tr>\n",
       "    <tr>\n",
       "      <th>&gt; $75,000</th>\n",
       "      <td>646</td>\n",
       "      <td>646</td>\n",
       "      <td>644</td>\n",
       "      <td>644</td>\n",
       "      <td>643</td>\n",
       "      <td>646</td>\n",
       "      <td>645</td>\n",
       "      <td>646</td>\n",
       "      <td>645</td>\n",
       "      <td>644</td>\n",
       "      <td>...</td>\n",
       "      <td>642</td>\n",
       "      <td>646</td>\n",
       "      <td>646</td>\n",
       "      <td>646</td>\n",
       "      <td>646</td>\n",
       "      <td>646</td>\n",
       "      <td>461</td>\n",
       "      <td>458</td>\n",
       "      <td>646</td>\n",
       "      <td>646</td>\n",
       "    </tr>\n",
       "    <tr>\n",
       "      <th>Below Poverty</th>\n",
       "      <td>934</td>\n",
       "      <td>932</td>\n",
       "      <td>930</td>\n",
       "      <td>931</td>\n",
       "      <td>926</td>\n",
       "      <td>933</td>\n",
       "      <td>931</td>\n",
       "      <td>930</td>\n",
       "      <td>932</td>\n",
       "      <td>927</td>\n",
       "      <td>...</td>\n",
       "      <td>921</td>\n",
       "      <td>929</td>\n",
       "      <td>934</td>\n",
       "      <td>934</td>\n",
       "      <td>934</td>\n",
       "      <td>934</td>\n",
       "      <td>270</td>\n",
       "      <td>268</td>\n",
       "      <td>934</td>\n",
       "      <td>934</td>\n",
       "    </tr>\n",
       "    <tr>\n",
       "      <th rowspan=\"3\" valign=\"top\">&lt; 12 Years</th>\n",
       "      <th>&lt;= $75,000, Above Poverty</th>\n",
       "      <td>956</td>\n",
       "      <td>952</td>\n",
       "      <td>952</td>\n",
       "      <td>954</td>\n",
       "      <td>952</td>\n",
       "      <td>955</td>\n",
       "      <td>954</td>\n",
       "      <td>954</td>\n",
       "      <td>951</td>\n",
       "      <td>950</td>\n",
       "      <td>...</td>\n",
       "      <td>951</td>\n",
       "      <td>953</td>\n",
       "      <td>956</td>\n",
       "      <td>956</td>\n",
       "      <td>956</td>\n",
       "      <td>956</td>\n",
       "      <td>366</td>\n",
       "      <td>365</td>\n",
       "      <td>956</td>\n",
       "      <td>956</td>\n",
       "    </tr>\n",
       "    <tr>\n",
       "      <th>&gt; $75,000</th>\n",
       "      <td>126</td>\n",
       "      <td>126</td>\n",
       "      <td>125</td>\n",
       "      <td>126</td>\n",
       "      <td>126</td>\n",
       "      <td>126</td>\n",
       "      <td>126</td>\n",
       "      <td>126</td>\n",
       "      <td>126</td>\n",
       "      <td>126</td>\n",
       "      <td>...</td>\n",
       "      <td>125</td>\n",
       "      <td>125</td>\n",
       "      <td>126</td>\n",
       "      <td>126</td>\n",
       "      <td>126</td>\n",
       "      <td>126</td>\n",
       "      <td>62</td>\n",
       "      <td>61</td>\n",
       "      <td>126</td>\n",
       "      <td>126</td>\n",
       "    </tr>\n",
       "    <tr>\n",
       "      <th>Below Poverty</th>\n",
       "      <td>807</td>\n",
       "      <td>797</td>\n",
       "      <td>795</td>\n",
       "      <td>801</td>\n",
       "      <td>801</td>\n",
       "      <td>807</td>\n",
       "      <td>805</td>\n",
       "      <td>800</td>\n",
       "      <td>801</td>\n",
       "      <td>801</td>\n",
       "      <td>...</td>\n",
       "      <td>785</td>\n",
       "      <td>805</td>\n",
       "      <td>807</td>\n",
       "      <td>807</td>\n",
       "      <td>806</td>\n",
       "      <td>806</td>\n",
       "      <td>202</td>\n",
       "      <td>199</td>\n",
       "      <td>807</td>\n",
       "      <td>807</td>\n",
       "    </tr>\n",
       "    <tr>\n",
       "      <th rowspan=\"3\" valign=\"top\">College Graduate</th>\n",
       "      <th>&lt;= $75,000, Above Poverty</th>\n",
       "      <td>4407</td>\n",
       "      <td>4403</td>\n",
       "      <td>4397</td>\n",
       "      <td>4402</td>\n",
       "      <td>4380</td>\n",
       "      <td>4405</td>\n",
       "      <td>4406</td>\n",
       "      <td>4394</td>\n",
       "      <td>4397</td>\n",
       "      <td>4392</td>\n",
       "      <td>...</td>\n",
       "      <td>4367</td>\n",
       "      <td>4394</td>\n",
       "      <td>4407</td>\n",
       "      <td>4407</td>\n",
       "      <td>4407</td>\n",
       "      <td>4407</td>\n",
       "      <td>2553</td>\n",
       "      <td>2521</td>\n",
       "      <td>4407</td>\n",
       "      <td>4407</td>\n",
       "    </tr>\n",
       "    <tr>\n",
       "      <th>&gt; $75,000</th>\n",
       "      <td>4500</td>\n",
       "      <td>4496</td>\n",
       "      <td>4489</td>\n",
       "      <td>4495</td>\n",
       "      <td>4466</td>\n",
       "      <td>4500</td>\n",
       "      <td>4499</td>\n",
       "      <td>4494</td>\n",
       "      <td>4495</td>\n",
       "      <td>4493</td>\n",
       "      <td>...</td>\n",
       "      <td>4488</td>\n",
       "      <td>4493</td>\n",
       "      <td>4500</td>\n",
       "      <td>4500</td>\n",
       "      <td>4498</td>\n",
       "      <td>4498</td>\n",
       "      <td>3433</td>\n",
       "      <td>3404</td>\n",
       "      <td>4500</td>\n",
       "      <td>4500</td>\n",
       "    </tr>\n",
       "    <tr>\n",
       "      <th>Below Poverty</th>\n",
       "      <td>271</td>\n",
       "      <td>270</td>\n",
       "      <td>271</td>\n",
       "      <td>269</td>\n",
       "      <td>268</td>\n",
       "      <td>271</td>\n",
       "      <td>270</td>\n",
       "      <td>270</td>\n",
       "      <td>271</td>\n",
       "      <td>270</td>\n",
       "      <td>...</td>\n",
       "      <td>268</td>\n",
       "      <td>268</td>\n",
       "      <td>271</td>\n",
       "      <td>271</td>\n",
       "      <td>270</td>\n",
       "      <td>270</td>\n",
       "      <td>101</td>\n",
       "      <td>101</td>\n",
       "      <td>271</td>\n",
       "      <td>271</td>\n",
       "    </tr>\n",
       "    <tr>\n",
       "      <th rowspan=\"3\" valign=\"top\">Some College</th>\n",
       "      <th>&lt;= $75,000, Above Poverty</th>\n",
       "      <td>4101</td>\n",
       "      <td>4093</td>\n",
       "      <td>4089</td>\n",
       "      <td>4090</td>\n",
       "      <td>4077</td>\n",
       "      <td>4100</td>\n",
       "      <td>4098</td>\n",
       "      <td>4093</td>\n",
       "      <td>4096</td>\n",
       "      <td>4087</td>\n",
       "      <td>...</td>\n",
       "      <td>4067</td>\n",
       "      <td>4089</td>\n",
       "      <td>4101</td>\n",
       "      <td>4101</td>\n",
       "      <td>4100</td>\n",
       "      <td>4100</td>\n",
       "      <td>2090</td>\n",
       "      <td>2083</td>\n",
       "      <td>4101</td>\n",
       "      <td>4101</td>\n",
       "    </tr>\n",
       "    <tr>\n",
       "      <th>&gt; $75,000</th>\n",
       "      <td>1524</td>\n",
       "      <td>1524</td>\n",
       "      <td>1520</td>\n",
       "      <td>1521</td>\n",
       "      <td>1518</td>\n",
       "      <td>1524</td>\n",
       "      <td>1521</td>\n",
       "      <td>1519</td>\n",
       "      <td>1522</td>\n",
       "      <td>1517</td>\n",
       "      <td>...</td>\n",
       "      <td>1520</td>\n",
       "      <td>1523</td>\n",
       "      <td>1524</td>\n",
       "      <td>1524</td>\n",
       "      <td>1523</td>\n",
       "      <td>1523</td>\n",
       "      <td>1054</td>\n",
       "      <td>1045</td>\n",
       "      <td>1524</td>\n",
       "      <td>1524</td>\n",
       "    </tr>\n",
       "    <tr>\n",
       "      <th>Below Poverty</th>\n",
       "      <td>662</td>\n",
       "      <td>660</td>\n",
       "      <td>659</td>\n",
       "      <td>661</td>\n",
       "      <td>658</td>\n",
       "      <td>662</td>\n",
       "      <td>661</td>\n",
       "      <td>661</td>\n",
       "      <td>658</td>\n",
       "      <td>657</td>\n",
       "      <td>...</td>\n",
       "      <td>653</td>\n",
       "      <td>660</td>\n",
       "      <td>662</td>\n",
       "      <td>662</td>\n",
       "      <td>661</td>\n",
       "      <td>661</td>\n",
       "      <td>196</td>\n",
       "      <td>194</td>\n",
       "      <td>662</td>\n",
       "      <td>662</td>\n",
       "    </tr>\n",
       "  </tbody>\n",
       "</table>\n",
       "<p>12 rows × 36 columns</p>\n",
       "</div>"
      ],
      "text/plain": [
       "                                            respondent_id  h1n1_concern  \\\n",
       "education        income_poverty                                           \n",
       "12 Years         <= $75,000, Above Poverty           3266          3261   \n",
       "                 > $75,000                            646           646   \n",
       "                 Below Poverty                        934           932   \n",
       "< 12 Years       <= $75,000, Above Poverty            956           952   \n",
       "                 > $75,000                            126           126   \n",
       "                 Below Poverty                        807           797   \n",
       "College Graduate <= $75,000, Above Poverty           4407          4403   \n",
       "                 > $75,000                           4500          4496   \n",
       "                 Below Poverty                        271           270   \n",
       "Some College     <= $75,000, Above Poverty           4101          4093   \n",
       "                 > $75,000                           1524          1524   \n",
       "                 Below Poverty                        662           660   \n",
       "\n",
       "                                            h1n1_knowledge  \\\n",
       "education        income_poverty                              \n",
       "12 Years         <= $75,000, Above Poverty            3255   \n",
       "                 > $75,000                             644   \n",
       "                 Below Poverty                         930   \n",
       "< 12 Years       <= $75,000, Above Poverty             952   \n",
       "                 > $75,000                             125   \n",
       "                 Below Poverty                         795   \n",
       "College Graduate <= $75,000, Above Poverty            4397   \n",
       "                 > $75,000                            4489   \n",
       "                 Below Poverty                         271   \n",
       "Some College     <= $75,000, Above Poverty            4089   \n",
       "                 > $75,000                            1520   \n",
       "                 Below Poverty                         659   \n",
       "\n",
       "                                            behavioral_antiviral_meds  \\\n",
       "education        income_poverty                                         \n",
       "12 Years         <= $75,000, Above Poverty                       3257   \n",
       "                 > $75,000                                        644   \n",
       "                 Below Poverty                                    931   \n",
       "< 12 Years       <= $75,000, Above Poverty                        954   \n",
       "                 > $75,000                                        126   \n",
       "                 Below Poverty                                    801   \n",
       "College Graduate <= $75,000, Above Poverty                       4402   \n",
       "                 > $75,000                                       4495   \n",
       "                 Below Poverty                                    269   \n",
       "Some College     <= $75,000, Above Poverty                       4090   \n",
       "                 > $75,000                                       1521   \n",
       "                 Below Poverty                                    661   \n",
       "\n",
       "                                            behavioral_avoidance  \\\n",
       "education        income_poverty                                    \n",
       "12 Years         <= $75,000, Above Poverty                  3241   \n",
       "                 > $75,000                                   643   \n",
       "                 Below Poverty                               926   \n",
       "< 12 Years       <= $75,000, Above Poverty                   952   \n",
       "                 > $75,000                                   126   \n",
       "                 Below Poverty                               801   \n",
       "College Graduate <= $75,000, Above Poverty                  4380   \n",
       "                 > $75,000                                  4466   \n",
       "                 Below Poverty                               268   \n",
       "Some College     <= $75,000, Above Poverty                  4077   \n",
       "                 > $75,000                                  1518   \n",
       "                 Below Poverty                               658   \n",
       "\n",
       "                                            behavioral_face_mask  \\\n",
       "education        income_poverty                                    \n",
       "12 Years         <= $75,000, Above Poverty                  3261   \n",
       "                 > $75,000                                   646   \n",
       "                 Below Poverty                               933   \n",
       "< 12 Years       <= $75,000, Above Poverty                   955   \n",
       "                 > $75,000                                   126   \n",
       "                 Below Poverty                               807   \n",
       "College Graduate <= $75,000, Above Poverty                  4405   \n",
       "                 > $75,000                                  4500   \n",
       "                 Below Poverty                               271   \n",
       "Some College     <= $75,000, Above Poverty                  4100   \n",
       "                 > $75,000                                  1524   \n",
       "                 Below Poverty                               662   \n",
       "\n",
       "                                            behavioral_wash_hands  \\\n",
       "education        income_poverty                                     \n",
       "12 Years         <= $75,000, Above Poverty                   3263   \n",
       "                 > $75,000                                    645   \n",
       "                 Below Poverty                                931   \n",
       "< 12 Years       <= $75,000, Above Poverty                    954   \n",
       "                 > $75,000                                    126   \n",
       "                 Below Poverty                                805   \n",
       "College Graduate <= $75,000, Above Poverty                   4406   \n",
       "                 > $75,000                                   4499   \n",
       "                 Below Poverty                                270   \n",
       "Some College     <= $75,000, Above Poverty                   4098   \n",
       "                 > $75,000                                   1521   \n",
       "                 Below Poverty                                661   \n",
       "\n",
       "                                            behavioral_large_gatherings  \\\n",
       "education        income_poverty                                           \n",
       "12 Years         <= $75,000, Above Poverty                         3254   \n",
       "                 > $75,000                                          646   \n",
       "                 Below Poverty                                      930   \n",
       "< 12 Years       <= $75,000, Above Poverty                          954   \n",
       "                 > $75,000                                          126   \n",
       "                 Below Poverty                                      800   \n",
       "College Graduate <= $75,000, Above Poverty                         4394   \n",
       "                 > $75,000                                         4494   \n",
       "                 Below Poverty                                      270   \n",
       "Some College     <= $75,000, Above Poverty                         4093   \n",
       "                 > $75,000                                         1519   \n",
       "                 Below Poverty                                      661   \n",
       "\n",
       "                                            behavioral_outside_home  \\\n",
       "education        income_poverty                                       \n",
       "12 Years         <= $75,000, Above Poverty                     3253   \n",
       "                 > $75,000                                      645   \n",
       "                 Below Poverty                                  932   \n",
       "< 12 Years       <= $75,000, Above Poverty                      951   \n",
       "                 > $75,000                                      126   \n",
       "                 Below Poverty                                  801   \n",
       "College Graduate <= $75,000, Above Poverty                     4397   \n",
       "                 > $75,000                                     4495   \n",
       "                 Below Poverty                                  271   \n",
       "Some College     <= $75,000, Above Poverty                     4096   \n",
       "                 > $75,000                                     1522   \n",
       "                 Below Poverty                                  658   \n",
       "\n",
       "                                            behavioral_touch_face  ...  \\\n",
       "education        income_poverty                                    ...   \n",
       "12 Years         <= $75,000, Above Poverty                   3244  ...   \n",
       "                 > $75,000                                    644  ...   \n",
       "                 Below Poverty                                927  ...   \n",
       "< 12 Years       <= $75,000, Above Poverty                    950  ...   \n",
       "                 > $75,000                                    126  ...   \n",
       "                 Below Poverty                                801  ...   \n",
       "College Graduate <= $75,000, Above Poverty                   4392  ...   \n",
       "                 > $75,000                                   4493  ...   \n",
       "                 Below Poverty                                270  ...   \n",
       "Some College     <= $75,000, Above Poverty                   4087  ...   \n",
       "                 > $75,000                                   1517  ...   \n",
       "                 Below Poverty                                657  ...   \n",
       "\n",
       "                                            rent_or_own  employment_status  \\\n",
       "education        income_poverty                                              \n",
       "12 Years         <= $75,000, Above Poverty         3223               3253   \n",
       "                 > $75,000                          642                646   \n",
       "                 Below Poverty                      921                929   \n",
       "< 12 Years       <= $75,000, Above Poverty          951                953   \n",
       "                 > $75,000                          125                125   \n",
       "                 Below Poverty                      785                805   \n",
       "College Graduate <= $75,000, Above Poverty         4367               4394   \n",
       "                 > $75,000                         4488               4493   \n",
       "                 Below Poverty                      268                268   \n",
       "Some College     <= $75,000, Above Poverty         4067               4089   \n",
       "                 > $75,000                         1520               1523   \n",
       "                 Below Poverty                      653                660   \n",
       "\n",
       "                                            hhs_geo_region  census_msa  \\\n",
       "education        income_poverty                                          \n",
       "12 Years         <= $75,000, Above Poverty            3266        3266   \n",
       "                 > $75,000                             646         646   \n",
       "                 Below Poverty                         934         934   \n",
       "< 12 Years       <= $75,000, Above Poverty             956         956   \n",
       "                 > $75,000                             126         126   \n",
       "                 Below Poverty                         807         807   \n",
       "College Graduate <= $75,000, Above Poverty            4407        4407   \n",
       "                 > $75,000                            4500        4500   \n",
       "                 Below Poverty                         271         271   \n",
       "Some College     <= $75,000, Above Poverty            4101        4101   \n",
       "                 > $75,000                            1524        1524   \n",
       "                 Below Poverty                         662         662   \n",
       "\n",
       "                                            household_adults  \\\n",
       "education        income_poverty                                \n",
       "12 Years         <= $75,000, Above Poverty              3266   \n",
       "                 > $75,000                               646   \n",
       "                 Below Poverty                           934   \n",
       "< 12 Years       <= $75,000, Above Poverty               956   \n",
       "                 > $75,000                               126   \n",
       "                 Below Poverty                           806   \n",
       "College Graduate <= $75,000, Above Poverty              4407   \n",
       "                 > $75,000                              4498   \n",
       "                 Below Poverty                           270   \n",
       "Some College     <= $75,000, Above Poverty              4100   \n",
       "                 > $75,000                              1523   \n",
       "                 Below Poverty                           661   \n",
       "\n",
       "                                            household_children  \\\n",
       "education        income_poverty                                  \n",
       "12 Years         <= $75,000, Above Poverty                3266   \n",
       "                 > $75,000                                 646   \n",
       "                 Below Poverty                             934   \n",
       "< 12 Years       <= $75,000, Above Poverty                 956   \n",
       "                 > $75,000                                 126   \n",
       "                 Below Poverty                             806   \n",
       "College Graduate <= $75,000, Above Poverty                4407   \n",
       "                 > $75,000                                4498   \n",
       "                 Below Poverty                             270   \n",
       "Some College     <= $75,000, Above Poverty                4100   \n",
       "                 > $75,000                                1523   \n",
       "                 Below Poverty                             661   \n",
       "\n",
       "                                            employment_industry  \\\n",
       "education        income_poverty                                   \n",
       "12 Years         <= $75,000, Above Poverty                 1472   \n",
       "                 > $75,000                                  461   \n",
       "                 Below Poverty                              270   \n",
       "< 12 Years       <= $75,000, Above Poverty                  366   \n",
       "                 > $75,000                                   62   \n",
       "                 Below Poverty                              202   \n",
       "College Graduate <= $75,000, Above Poverty                 2553   \n",
       "                 > $75,000                                 3433   \n",
       "                 Below Poverty                              101   \n",
       "Some College     <= $75,000, Above Poverty                 2090   \n",
       "                 > $75,000                                 1054   \n",
       "                 Below Poverty                              196   \n",
       "\n",
       "                                            employment_occupation  \\\n",
       "education        income_poverty                                     \n",
       "12 Years         <= $75,000, Above Poverty                   1466   \n",
       "                 > $75,000                                    458   \n",
       "                 Below Poverty                                268   \n",
       "< 12 Years       <= $75,000, Above Poverty                    365   \n",
       "                 > $75,000                                     61   \n",
       "                 Below Poverty                                199   \n",
       "College Graduate <= $75,000, Above Poverty                   2521   \n",
       "                 > $75,000                                   3404   \n",
       "                 Below Poverty                                101   \n",
       "Some College     <= $75,000, Above Poverty                   2083   \n",
       "                 > $75,000                                   1045   \n",
       "                 Below Poverty                                194   \n",
       "\n",
       "                                            h1n1_vaccine  seasonal_vaccine  \n",
       "education        income_poverty                                             \n",
       "12 Years         <= $75,000, Above Poverty          3266              3266  \n",
       "                 > $75,000                           646               646  \n",
       "                 Below Poverty                       934               934  \n",
       "< 12 Years       <= $75,000, Above Poverty           956               956  \n",
       "                 > $75,000                           126               126  \n",
       "                 Below Poverty                       807               807  \n",
       "College Graduate <= $75,000, Above Poverty          4407              4407  \n",
       "                 > $75,000                          4500              4500  \n",
       "                 Below Poverty                       271               271  \n",
       "Some College     <= $75,000, Above Poverty          4101              4101  \n",
       "                 > $75,000                          1524              1524  \n",
       "                 Below Poverty                       662               662  \n",
       "\n",
       "[12 rows x 36 columns]"
      ]
     },
     "execution_count": 7,
     "metadata": {},
     "output_type": "execute_result"
    }
   ],
   "source": [
    "df_merged.groupby(['education','income_poverty']).count()"
   ]
  },
  {
   "cell_type": "code",
   "execution_count": 8,
   "metadata": {},
   "outputs": [],
   "source": [
    "## Dropping:\n",
    "# respondent_id: its just ids\n",
    "# employment_occupation/industry: too many nulls, assuming imputing with most freq will give us wrong data\n",
    "# health insurance: too many nulls again, cant really decide if they have or dont have insurance\n",
    "df_noid = df_merged.drop(['respondent_id','employment_occupation','employment_industry','behavioral_antiviral_meds',\n",
    "                          'household_children','household_adults','census_msa','rent_or_own', 'marital_status',\n",
    "                         'health_insurance'], axis = 1)"
   ]
  },
  {
   "cell_type": "markdown",
   "metadata": {},
   "source": [
    "## Creating train test valid"
   ]
  },
  {
   "cell_type": "code",
   "execution_count": 9,
   "metadata": {},
   "outputs": [],
   "source": [
    "# preparing X and y\n",
    "X = df_noid.drop('h1n1_vaccine', axis = 1)\n",
    "y = df_noid['h1n1_vaccine']"
   ]
  },
  {
   "cell_type": "code",
   "execution_count": 10,
   "metadata": {},
   "outputs": [],
   "source": [
    "# initial split between test and rest. Final untouced data will be X_test/y_test\n",
    "X_train_temp, X_test, y_train_temp, y_test = train_test_split(X, y, test_size = 0.1, random_state = 42)\n",
    "# Splitting again for cross validation. X_train/X_valid will be used mostly\n",
    "X_train, X_valid, y_train, y_valid = train_test_split(X_train_temp, y_train_temp, random_state = 42)"
   ]
  },
  {
   "cell_type": "code",
   "execution_count": 11,
   "metadata": {},
   "outputs": [
    {
     "name": "stdout",
     "output_type": "stream",
     "text": [
      "Sum of X_'s: 26707\n",
      "Length of df: 26707\n"
     ]
    }
   ],
   "source": [
    "print(f\"Sum of X_'s: {len(X_test)+len(X_train)+len(X_valid)}\")\n",
    "print(f\"Length of df: {len(df_noid)}\")\n",
    "\n",
    "# Just checking if logic of trian/test/split worked correctly"
   ]
  },
  {
   "cell_type": "markdown",
   "metadata": {},
   "source": [
    "## Creating initial pipes"
   ]
  },
  {
   "cell_type": "code",
   "execution_count": 12,
   "metadata": {},
   "outputs": [],
   "source": [
    "# Every feature has some kind of null. Will have to impute first.\n",
    "# Making pipelines for imputers\n",
    "# Will also scale here\n",
    "\n",
    "subpipe_num = Pipeline(steps = [\n",
    "    ('num_impute', SimpleImputer(strategy = 'median')),\n",
    "    ('ss', StandardScaler())\n",
    "])\n",
    "\n",
    "subpipe_cat = Pipeline(steps = [\n",
    "    ('cat_impute', SimpleImputer(strategy = 'most_frequent')),\n",
    "    \n",
    "    ('ohe', OneHotEncoder(sparse = False, handle_unknown = 'ignore'))\n",
    "])"
   ]
  },
  {
   "cell_type": "code",
   "execution_count": 13,
   "metadata": {},
   "outputs": [],
   "source": [
    "# Col transformer will handle preprocessing\n",
    "# Add model at end of the pipeline\n",
    "\n",
    "CT = ColumnTransformer(transformers = [\n",
    "    ('subpipe_num', subpipe_num, selector(dtype_include = np.number)),\n",
    "    ('subpipe_cat', subpipe_cat, selector(dtype_include = object))\n",
    "], remainder = 'passthrough')"
   ]
  },
  {
   "cell_type": "markdown",
   "metadata": {},
   "source": [
    "## Dummy Model of new features"
   ]
  },
  {
   "cell_type": "code",
   "execution_count": 14,
   "metadata": {},
   "outputs": [],
   "source": [
    "dummy_model_pipe = Pipeline(steps = [\n",
    "    ('ct',CT),\n",
    "    ('dummy', DummyClassifier(strategy = 'most_frequent'))\n",
    "])"
   ]
  },
  {
   "cell_type": "code",
   "execution_count": 15,
   "metadata": {},
   "outputs": [
    {
     "data": {
      "text/plain": [
       "Pipeline(steps=[('ct',\n",
       "                 ColumnTransformer(remainder='passthrough',\n",
       "                                   transformers=[('subpipe_num',\n",
       "                                                  Pipeline(steps=[('num_impute',\n",
       "                                                                   SimpleImputer(strategy='median')),\n",
       "                                                                  ('ss',\n",
       "                                                                   StandardScaler())]),\n",
       "                                                  <sklearn.compose._column_transformer.make_column_selector object at 0x000001F50DA937F0>),\n",
       "                                                 ('subpipe_cat',\n",
       "                                                  Pipeline(steps=[('cat_impute',\n",
       "                                                                   SimpleImputer(strategy='most_frequent')),\n",
       "                                                                  ('ohe',\n",
       "                                                                   OneHotEncoder(handle_unknown='ignore',\n",
       "                                                                                 sparse=False))]),\n",
       "                                                  <sklearn.compose._column_transformer.make_column_selector object at 0x000001F50DA93880>)])),\n",
       "                ('dummy', DummyClassifier(strategy='most_frequent'))])"
      ]
     },
     "execution_count": 15,
     "metadata": {},
     "output_type": "execute_result"
    }
   ],
   "source": [
    "dummy_model_pipe.fit(X_train, y_train)"
   ]
  },
  {
   "cell_type": "code",
   "execution_count": 16,
   "metadata": {},
   "outputs": [
    {
     "data": {
      "text/plain": [
       "0.7851001275863981"
      ]
     },
     "execution_count": 16,
     "metadata": {},
     "output_type": "execute_result"
    }
   ],
   "source": [
    "dummy_model_pipe.score(X_train, y_train)"
   ]
  },
  {
   "cell_type": "code",
   "execution_count": 17,
   "metadata": {},
   "outputs": [
    {
     "name": "stdout",
     "output_type": "stream",
     "text": [
      "CV Results for `dummy` model:\n",
      "            0.78510 ± 0.00025 accuracy\n",
      "        \n"
     ]
    },
    {
     "data": {
      "image/png": "[encoded data removed]",
      "text/plain": [
       "<Figure size 720x720 with 1 Axes>"
      ]
     },
     "metadata": {
      "needs_background": "light"
     },
     "output_type": "display_data"
    }
   ],
   "source": [
    "dummy_pipe = ModelWithCV(\n",
    "    dummy_model_pipe,\n",
    "model_name = 'dummy',\n",
    "X = X_train,\n",
    "y = y_train)\n",
    "fig, ax = plt.subplots(figsize = (10,10))\n",
    "dummy_pipe.plot_cv(ax=ax)\n",
    "dummy_pipe.print_cv_summary()"
   ]
  },
  {
   "cell_type": "code",
   "execution_count": 18,
   "metadata": {},
   "outputs": [
    {
     "data": {
      "text/plain": [
       "0.7956398735230488"
      ]
     },
     "execution_count": 18,
     "metadata": {},
     "output_type": "execute_result"
    }
   ],
   "source": [
    "dummy_model_pipe.score(X_valid, y_valid)"
   ]
  },
  {
   "cell_type": "code",
   "execution_count": 19,
   "metadata": {},
   "outputs": [
    {
     "name": "stdout",
     "output_type": "stream",
     "text": [
      "              precision    recall  f1-score   support\n",
      "\n",
      "           0       0.80      1.00      0.89      4781\n",
      "           1       0.00      0.00      0.00      1228\n",
      "\n",
      "    accuracy                           0.80      6009\n",
      "   macro avg       0.40      0.50      0.44      6009\n",
      "weighted avg       0.63      0.80      0.71      6009\n",
      "\n"
     ]
    },
    {
     "name": "stderr",
     "output_type": "stream",
     "text": [
      "F:\\Anaconda\\envs\\learn-env\\lib\\site-packages\\sklearn\\metrics\\_classification.py:1221: UndefinedMetricWarning: Precision and F-score are ill-defined and being set to 0.0 in labels with no predicted samples. Use `zero_division` parameter to control this behavior.\n",
      "  _warn_prf(average, modifier, msg_start, len(result))\n"
     ]
    }
   ],
   "source": [
    "y_pred = dummy_model_pipe.predict(X_valid)\n",
    "print(classification_report(y_valid, y_pred))"
   ]
  },
  {
   "cell_type": "code",
   "execution_count": 20,
   "metadata": {},
   "outputs": [
    {
     "data": {
      "text/plain": [
       "<sklearn.metrics._plot.confusion_matrix.ConfusionMatrixDisplay at 0x1f50da93790>"
      ]
     },
     "execution_count": 20,
     "metadata": {},
     "output_type": "execute_result"
    },
    {
     "data": {
      "image/png": "[encoded data removed]",
      "text/plain": [
       "<Figure size 432x288 with 2 Axes>"
      ]
     },
     "metadata": {
      "needs_background": "light"
     },
     "output_type": "display_data"
    }
   ],
   "source": [
    "plot_confusion_matrix(dummy_model_pipe, X_valid, y_valid)"
   ]
  },
  {
   "cell_type": "markdown",
   "metadata": {},
   "source": [
    "## Logreg model no params"
   ]
  },
  {
   "cell_type": "code",
   "execution_count": 21,
   "metadata": {},
   "outputs": [],
   "source": [
    "logreg_basic_model_pipe = Pipeline(steps = [\n",
    "    ('ct', CT),\n",
    "    ('logreg_basic', LogisticRegression())\n",
    "])"
   ]
  },
  {
   "cell_type": "code",
   "execution_count": 22,
   "metadata": {},
   "outputs": [
    {
     "data": {
      "text/plain": [
       "Pipeline(steps=[('ct',\n",
       "                 ColumnTransformer(remainder='passthrough',\n",
       "                                   transformers=[('subpipe_num',\n",
       "                                                  Pipeline(steps=[('num_impute',\n",
       "                                                                   SimpleImputer(strategy='median')),\n",
       "                                                                  ('ss',\n",
       "                                                                   StandardScaler())]),\n",
       "                                                  <sklearn.compose._column_transformer.make_column_selector object at 0x000001F50DA937F0>),\n",
       "                                                 ('subpipe_cat',\n",
       "                                                  Pipeline(steps=[('cat_impute',\n",
       "                                                                   SimpleImputer(strategy='most_frequent')),\n",
       "                                                                  ('ohe',\n",
       "                                                                   OneHotEncoder(handle_unknown='ignore',\n",
       "                                                                                 sparse=False))]),\n",
       "                                                  <sklearn.compose._column_transformer.make_column_selector object at 0x000001F50DA93880>)])),\n",
       "                ('logreg_basic', LogisticRegression())])"
      ]
     },
     "execution_count": 22,
     "metadata": {},
     "output_type": "execute_result"
    }
   ],
   "source": [
    "logreg_basic_model_pipe.fit(X_train, y_train)"
   ]
  },
  {
   "cell_type": "code",
   "execution_count": 23,
   "metadata": {},
   "outputs": [
    {
     "name": "stdout",
     "output_type": "stream",
     "text": [
      "CV Results for `logreg_basic_with_cv` model:\n",
      "            0.84978 ± 0.00777 accuracy\n",
      "        \n"
     ]
    },
    {
     "data": {
      "image/png": "[encoded data removed]",
      "text/plain": [
       "<Figure size 720x720 with 1 Axes>"
      ]
     },
     "metadata": {
      "needs_background": "light"
     },
     "output_type": "display_data"
    }
   ],
   "source": [
    "logreg_basic_cv = ModelWithCV(\n",
    "    logreg_basic_model_pipe,\n",
    "model_name = 'logreg_basic_with_cv',\n",
    "X = X_train,\n",
    "y = y_train)\n",
    "fig, ax = plt.subplots(figsize = (10,10))\n",
    "logreg_basic_cv.plot_cv(ax=ax)\n",
    "logreg_basic_cv.print_cv_summary()"
   ]
  },
  {
   "cell_type": "code",
   "execution_count": 24,
   "metadata": {},
   "outputs": [
    {
     "data": {
      "text/plain": [
       "0.8525545015809619"
      ]
     },
     "execution_count": 24,
     "metadata": {},
     "output_type": "execute_result"
    }
   ],
   "source": [
    "logreg_basic_model_pipe.score(X_valid, y_valid)"
   ]
  },
  {
   "cell_type": "code",
   "execution_count": 25,
   "metadata": {},
   "outputs": [
    {
     "name": "stdout",
     "output_type": "stream",
     "text": [
      "              precision    recall  f1-score   support\n",
      "\n",
      "           0       0.88      0.94      0.91      4781\n",
      "           1       0.69      0.50      0.58      1228\n",
      "\n",
      "    accuracy                           0.85      6009\n",
      "   macro avg       0.79      0.72      0.74      6009\n",
      "weighted avg       0.84      0.85      0.84      6009\n",
      "\n"
     ]
    }
   ],
   "source": [
    "y_pred = logreg_basic_model_pipe.predict(X_valid)\n",
    "print(classification_report(y_valid, y_pred))"
   ]
  },
  {
   "cell_type": "code",
   "execution_count": 26,
   "metadata": {},
   "outputs": [
    {
     "data": {
      "text/plain": [
       "<sklearn.metrics._plot.confusion_matrix.ConfusionMatrixDisplay at 0x1f50f1f6ac0>"
      ]
     },
     "execution_count": 26,
     "metadata": {},
     "output_type": "execute_result"
    },
    {
     "data": {
      "image/png": "[encoded data removed]",
      "text/plain": [
       "<Figure size 432x288 with 2 Axes>"
      ]
     },
     "metadata": {
      "needs_background": "light"
     },
     "output_type": "display_data"
    }
   ],
   "source": [
    "plot_confusion_matrix(logreg_basic_model_pipe, X_valid, y_valid)"
   ]
  },
  {
   "cell_type": "markdown",
   "metadata": {},
   "source": [
    "- True no vacc:   4513\n",
    "- False no vacc:  618\n",
    "- True yes vacc:  610\n",
    "- False yes vacc: 268\n",
    "\n",
    "\n",
    "- We guessed 878 would get vaccine, 268 was wrong\n",
    "- We guessed 5131 would not get vacc, 618 was wrong."
   ]
  },
  {
   "cell_type": "markdown",
   "metadata": {},
   "source": [
    "### Begin Gridsearching and tuning on logreg"
   ]
  },
  {
   "cell_type": "code",
   "execution_count": 27,
   "metadata": {},
   "outputs": [],
   "source": [
    "params = {}\n",
    "params['ct__subpipe_num__num_impute__strategy'] = ['median']\n",
    "params['logreg_basic__penalty'] = ['l2'] \n",
    "params['logreg_basic__max_iter'] = [100]\n",
    "params['logreg_basic__C'] = [0.075]\n",
    "params['logreg_basic__solver'] = ['saga']\n",
    "params['logreg_basic__tol'] = [0.0001]\n",
    "gs = GridSearchCV(estimator = logreg_basic_model_pipe,\n",
    "               param_grid = params,\n",
    "               cv = 10,)"
   ]
  },
  {
   "cell_type": "code",
   "execution_count": 28,
   "metadata": {
    "scrolled": true
   },
   "outputs": [
    {
     "data": {
      "text/plain": [
       "GridSearchCV(cv=10,\n",
       "             estimator=Pipeline(steps=[('ct',\n",
       "                                        ColumnTransformer(remainder='passthrough',\n",
       "                                                          transformers=[('subpipe_num',\n",
       "                                                                         Pipeline(steps=[('num_impute',\n",
       "                                                                                          SimpleImputer(strategy='median')),\n",
       "                                                                                         ('ss',\n",
       "                                                                                          StandardScaler())]),\n",
       "                                                                         <sklearn.compose._column_transformer.make_column_selector object at 0x000001F50DA937F0>),\n",
       "                                                                        ('subpipe_cat',\n",
       "                                                                         Pipeline(steps=[('cat_impute',\n",
       "                                                                                          SimpleI...\n",
       "                                                                                                        sparse=False))]),\n",
       "                                                                         <sklearn.compose._column_transformer.make_column_selector object at 0x000001F50DA93880>)])),\n",
       "                                       ('logreg_basic', LogisticRegression())]),\n",
       "             param_grid={'ct__subpipe_num__num_impute__strategy': ['median'],\n",
       "                         'logreg_basic__C': [0.075],\n",
       "                         'logreg_basic__max_iter': [100],\n",
       "                         'logreg_basic__penalty': ['l2'],\n",
       "                         'logreg_basic__solver': ['saga'],\n",
       "                         'logreg_basic__tol': [0.0001]})"
      ]
     },
     "execution_count": 28,
     "metadata": {},
     "output_type": "execute_result"
    }
   ],
   "source": [
    "gs.fit(X_train, y_train)"
   ]
  },
  {
   "cell_type": "code",
   "execution_count": 29,
   "metadata": {},
   "outputs": [
    {
     "data": {
      "text/plain": [
       "{'ct__subpipe_num__num_impute__strategy': 'median',\n",
       " 'logreg_basic__C': 0.075,\n",
       " 'logreg_basic__max_iter': 100,\n",
       " 'logreg_basic__penalty': 'l2',\n",
       " 'logreg_basic__solver': 'saga',\n",
       " 'logreg_basic__tol': 0.0001}"
      ]
     },
     "execution_count": 29,
     "metadata": {},
     "output_type": "execute_result"
    }
   ],
   "source": [
    "gs.best_params_"
   ]
  },
  {
   "cell_type": "code",
   "execution_count": 30,
   "metadata": {},
   "outputs": [
    {
     "name": "stdout",
     "output_type": "stream",
     "text": [
      "CV Results for `gs_dtc_model` model:\n",
      "            0.85056 ± 0.00781 accuracy\n",
      "        \n"
     ]
    },
    {
     "data": {
      "image/png": "[encoded data removed]",
      "text/plain": [
       "<Figure size 720x720 with 1 Axes>"
      ]
     },
     "metadata": {
      "needs_background": "light"
     },
     "output_type": "display_data"
    }
   ],
   "source": [
    "gs_pipe = ModelWithCV(\n",
    "    gs.best_estimator_,\n",
    "    model_name='gs_dtc_model',\n",
    "    X=X_train,\n",
    "    y=y_train)\n",
    "fix, ax = plt.subplots(figsize=(10,10))\n",
    "\n",
    "gs_pipe.plot_cv(ax=ax)\n",
    "gs_pipe.print_cv_summary()"
   ]
  },
  {
   "cell_type": "code",
   "execution_count": 31,
   "metadata": {},
   "outputs": [
    {
     "name": "stdout",
     "output_type": "stream",
     "text": [
      "CV Results for `gs_dtc_model` model:\n",
      "            0.85056 ± 0.00781 accuracy\n",
      "        \n"
     ]
    }
   ],
   "source": [
    "gs_pipe.print_cv_summary()"
   ]
  },
  {
   "cell_type": "code",
   "execution_count": 32,
   "metadata": {},
   "outputs": [
    {
     "data": {
      "text/plain": [
       "0.853053752704277"
      ]
     },
     "execution_count": 32,
     "metadata": {},
     "output_type": "execute_result"
    }
   ],
   "source": [
    "gs.best_estimator_.score(X_valid, y_valid)"
   ]
  },
  {
   "cell_type": "code",
   "execution_count": 33,
   "metadata": {},
   "outputs": [
    {
     "name": "stdout",
     "output_type": "stream",
     "text": [
      "              precision    recall  f1-score   support\n",
      "\n",
      "           0       0.88      0.94      0.91      4781\n",
      "           1       0.70      0.50      0.58      1228\n",
      "\n",
      "    accuracy                           0.85      6009\n",
      "   macro avg       0.79      0.72      0.75      6009\n",
      "weighted avg       0.84      0.85      0.84      6009\n",
      "\n"
     ]
    }
   ],
   "source": [
    "y_pred = gs.best_estimator_.predict(X_valid)\n",
    "print(classification_report(y_valid, y_pred))"
   ]
  },
  {
   "cell_type": "code",
   "execution_count": 34,
   "metadata": {
    "scrolled": true
   },
   "outputs": [
    {
     "name": "stdout",
     "output_type": "stream",
     "text": [
      "Iteration best model Confusion Matrix\n"
     ]
    },
    {
     "data": {
      "image/png": "[encoded data removed]",
      "text/plain": [
       "<Figure size 432x288 with 2 Axes>"
      ]
     },
     "metadata": {
      "needs_background": "light"
     },
     "output_type": "display_data"
    }
   ],
   "source": [
    "plot_confusion_matrix(gs.best_estimator_, X_valid, y_valid)\n",
    "print(f\"Iteration best model Confusion Matrix\")\n",
    "#plt.savefig('Modeling_Work_2_Logreg_best.png')"
   ]
  },
  {
   "cell_type": "code",
   "execution_count": null,
   "metadata": {},
   "outputs": [],
   "source": []
  }
 ],
 "metadata": {
  "kernelspec": {
   "display_name": "Python (learn-env)",
   "language": "python",
   "name": "learn-env"
  },
  "language_info": {
   "codemirror_mode": {
    "name": "ipython",
    "version": 3
   },
   "file_extension": ".py",
   "mimetype": "text/x-python",
   "name": "python",
   "nbconvert_exporter": "python",
   "pygments_lexer": "ipython3",
   "version": "3.8.5"
  }
 },
 "nbformat": 4,
 "nbformat_minor": 4
}
